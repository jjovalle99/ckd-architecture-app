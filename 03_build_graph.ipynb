{
 "cells": [
  {
   "cell_type": "code",
   "execution_count": 1,
   "metadata": {},
   "outputs": [],
   "source": [
    "import os\n",
    "import json\n",
    "import pickle\n",
    "from pathlib import Path\n",
    "from typing import List, Optional\n",
    "\n",
    "from dotenv import load_dotenv\n",
    "from langchain_community.graphs import Neo4jGraph\n",
    "from langchain_core.pydantic_v1 import BaseModel, Field\n",
    "from nest_asyncio import apply as nest_asyncio_apply\n",
    "\n",
    "_ = nest_asyncio_apply(), load_dotenv()\n",
    "DATA = Path(\"data\")"
   ]
  },
  {
   "cell_type": "code",
   "execution_count": 2,
   "metadata": {},
   "outputs": [],
   "source": [
    "# Define the structure of the expected output\n",
    "class AWSServicesRelationship(BaseModel):\n",
    "    \"\"\"Relantionship between two AWS services. The relationship represents a interaction between two AWS services in an AWS architecture.\"\"\"\n",
    "    serviceA: Optional[str] = Field(description=\"Name of the first AWS service.\")\n",
    "    serviceB: Optional[str] = Field(description=\"Name of the second AWS service.\")\n",
    "    relationship: Optional[str] = Field(description=\"Description of the relationship between the two services. This must be a single word.\")\n",
    "    evidence: Optional[str] = Field(description=\"Verbatim sentence of the text where the relationship is mentioned.\")\n",
    "\n",
    "class DataExtracted(BaseModel):\n",
    "    \"\"\"Relantionship between two AWS services. The relationship represents a connection between two AWS services in an AWS architecture.\"\"\"\n",
    "    relationships: List[AWSServicesRelationship] = Field(description=\"List of relationships between AWS services.\")"
   ]
  },
  {
   "cell_type": "code",
   "execution_count": 3,
   "metadata": {},
   "outputs": [],
   "source": [
    "with open(DATA / \"relationships.pkl\", \"rb\") as f:\n",
    "    extracted_data = pickle.load(f)\n",
    "\n",
    "with open(DATA / \"services_data_sc.json\") as f:\n",
    "    services_raw = json.load(f)\n",
    "    services = [service[\"service_name\"] for service in services_raw]"
   ]
  },
  {
   "cell_type": "code",
   "execution_count": 4,
   "metadata": {},
   "outputs": [
    {
     "data": {
      "text/plain": [
       "4471"
      ]
     },
     "execution_count": 4,
     "metadata": {},
     "output_type": "execute_result"
    }
   ],
   "source": [
    "good_relationships = []\n",
    "\n",
    "for relationships in extracted_data:\n",
    "    as_dict = relationships.dict()[\"relationships\"]\n",
    "\n",
    "    for relationship in as_dict:\n",
    "        if not relationship:\n",
    "            continue\n",
    "        elif relationship[\"serviceA\"] == relationship[\"serviceB\"]:\n",
    "            continue\n",
    "        elif not all([relationship[\"serviceA\"] in services, relationship[\"serviceB\"] in services]):\n",
    "            continue\n",
    "        else:\n",
    "            good_relationships.append(relationship)\n",
    "\n",
    "len(good_relationships)"
   ]
  },
  {
   "cell_type": "markdown",
   "metadata": {},
   "source": [
    "#### Extra filter of good relationships (Bedrock)"
   ]
  },
  {
   "cell_type": "code",
   "execution_count": 5,
   "metadata": {},
   "outputs": [],
   "source": [
    "#TODO"
   ]
  },
  {
   "cell_type": "markdown",
   "metadata": {},
   "source": [
    "#### Creating knowledge graph"
   ]
  },
  {
   "cell_type": "code",
   "execution_count": 6,
   "metadata": {},
   "outputs": [
    {
     "data": {
      "text/plain": [
       "[]"
      ]
     },
     "execution_count": 6,
     "metadata": {},
     "output_type": "execute_result"
    }
   ],
   "source": [
    "kg = Neo4jGraph(\n",
    "    url=os.getenv(\"NEO4J_URL\"),\n",
    "    username=os.getenv(\"NEO4J_USERNAME\"),\n",
    "    password=os.getenv(\"NEO4J_PASSWORD\"),\n",
    "    database=os.getenv(\"NEO4J_DATABASE\")\n",
    ")\n",
    "cypher = \"\"\"\n",
    "    MATCH (n)\n",
    "    DETACH DELETE n\n",
    "\"\"\"\n",
    "kg.query(cypher)"
   ]
  },
  {
   "cell_type": "code",
   "execution_count": 7,
   "metadata": {},
   "outputs": [
    {
     "data": {
      "text/plain": [
       "[{'number_of_services': 0}]"
      ]
     },
     "execution_count": 7,
     "metadata": {},
     "output_type": "execute_result"
    }
   ],
   "source": [
    "cypher = \"\"\"\n",
    "    MATCH (s) \n",
    "    RETURN count(s) AS number_of_services\n",
    "\"\"\"\n",
    "kg.query(cypher)"
   ]
  },
  {
   "cell_type": "code",
   "execution_count": 8,
   "metadata": {},
   "outputs": [],
   "source": [
    "# Iterate over each service in the JSON data\n",
    "for service in services_raw:\n",
    "    service_name = service[\"service_name\"]\n",
    "    description = service[\"description\"]\n",
    "    service_categories = service[\"service_categories\"]\n",
    "\n",
    "    # Create a Cypher query to add the service node with its properties\n",
    "    cypher = f\"\"\"\n",
    "    CREATE (s:Service {{\n",
    "        name: '{service_name}',\n",
    "        description: '{description}',\n",
    "        categories: {service_categories}\n",
    "    }})\n",
    "    \"\"\"\n",
    "\n",
    "    # Execute the Cypher query to add the service node\n",
    "    kg.query(cypher)"
   ]
  },
  {
   "cell_type": "code",
   "execution_count": 9,
   "metadata": {},
   "outputs": [
    {
     "name": "stdout",
     "output_type": "stream",
     "text": [
      "Expected number of nodes: 305\n"
     ]
    },
    {
     "data": {
      "text/plain": [
       "[{'number_of_services': 305}]"
      ]
     },
     "execution_count": 9,
     "metadata": {},
     "output_type": "execute_result"
    }
   ],
   "source": [
    "print(f\"Expected number of nodes: {len(services_raw)}\")\n",
    "cypher = \"\"\"\n",
    "    MATCH (n) \n",
    "    RETURN count(n) AS number_of_services\n",
    "\"\"\"\n",
    "kg.query(cypher)"
   ]
  },
  {
   "cell_type": "markdown",
   "metadata": {},
   "source": [
    "#### Testing queries"
   ]
  },
  {
   "cell_type": "code",
   "execution_count": 10,
   "metadata": {},
   "outputs": [
    {
     "data": {
      "text/plain": [
       "[{'s': {'name': 'Amazon A2I',\n",
       "   'description': 'Easily implement human review of ML predictions',\n",
       "   'categories': ['Machine Learning']}},\n",
       " {'s': {'name': 'Amazon Bedrock',\n",
       "   'description': 'Access best-in-class foundation models to build generative AI applications',\n",
       "   'categories': ['Machine Learning']}},\n",
       " {'s': {'name': 'Amazon CodeGuru',\n",
       "   'description': 'Find your most expensive lines of code',\n",
       "   'categories': ['Machine Learning']}},\n",
       " {'s': {'name': 'Amazon Comprehend',\n",
       "   'description': 'Discover insights and relationships in text',\n",
       "   'categories': ['Machine Learning']}},\n",
       " {'s': {'name': 'Amazon Comprehend Medical',\n",
       "   'description': 'Detect and return useful information in unstructured clinical text',\n",
       "   'categories': ['Machine Learning']}},\n",
       " {'s': {'name': 'Amazon DevOps\\xa0Guru',\n",
       "   'description': 'Improve application availability with ML-powered cloud operations',\n",
       "   'categories': ['Machine Learning']}},\n",
       " {'s': {'name': 'Amazon Elastic Inference',\n",
       "   'description': 'Deep learning inference acceleration',\n",
       "   'categories': ['Machine Learning']}},\n",
       " {'s': {'name': 'Amazon Forecast',\n",
       "   'description': 'Increase forecast accuracy using machine learning',\n",
       "   'categories': ['Machine Learning']}},\n",
       " {'s': {'name': 'Amazon Fraud Detector',\n",
       "   'description': 'Detect more online fraud faster',\n",
       "   'categories': ['Machine Learning']}},\n",
       " {'s': {'name': 'Amazon Kendra',\n",
       "   'description': 'Reinvent enterprise search with ML',\n",
       "   'categories': ['Machine Learning']}},\n",
       " {'s': {'name': 'Amazon Lex',\n",
       "   'description': 'Build voice and text chatbots',\n",
       "   'categories': ['Machine Learning']}},\n",
       " {'s': {'name': 'Amazon Lookout for Equipment',\n",
       "   'description': 'Detect abnormal equipment behavior by analyzing sensor data',\n",
       "   'categories': ['Machine Learning']}},\n",
       " {'s': {'name': 'Amazon Lookout for Metrics',\n",
       "   'description': 'Automatically detect anomalies in metrics and identify the root cause',\n",
       "   'categories': ['Machine Learning']}},\n",
       " {'s': {'name': 'Amazon Lookout for Vision',\n",
       "   'description': 'Spot product defects and automate quality inspection',\n",
       "   'categories': ['Machine Learning']}},\n",
       " {'s': {'name': 'Amazon Machine Learning',\n",
       "   'description': 'Learn about Amazon machine learning services',\n",
       "   'categories': ['Machine Learning']}},\n",
       " {'s': {'name': 'Amazon Monitron',\n",
       "   'description': 'Reduce unplanned equipment downtime with predictive maintenance and ML',\n",
       "   'categories': ['Machine Learning']}},\n",
       " {'s': {'name': 'Amazon Personalize',\n",
       "   'description': 'Build real-time recommendations into your applications',\n",
       "   'categories': ['Machine Learning']}},\n",
       " {'s': {'name': 'Amazon Polly',\n",
       "   'description': 'Turn text into life-like speech',\n",
       "   'categories': ['Machine Learning']}},\n",
       " {'s': {'name': 'Amazon Rekognition',\n",
       "   'description': 'Analyze image and video',\n",
       "   'categories': ['Machine Learning']}},\n",
       " {'s': {'name': 'Amazon SageMaker',\n",
       "   'description': 'Build, train, and deploy machine learning models at scale',\n",
       "   'categories': ['Machine Learning']}},\n",
       " {'s': {'name': 'Amazon Textract',\n",
       "   'description': 'Extract text and data from documents',\n",
       "   'categories': ['Machine Learning']}},\n",
       " {'s': {'name': 'Amazon Transcribe',\n",
       "   'description': 'Automatic speech recognition',\n",
       "   'categories': ['Machine Learning']}},\n",
       " {'s': {'name': 'Amazon Translate',\n",
       "   'description': 'Natural and fluent language translation',\n",
       "   'categories': ['Machine Learning']}},\n",
       " {'s': {'name': 'Apache MXNet on AWS',\n",
       "   'description': 'Scalable, open-source deep learning framework',\n",
       "   'categories': ['Machine Learning']}},\n",
       " {'s': {'name': 'AWS Deep Learning AMI',\n",
       "   'description': 'Deep learning on Amazon EC2',\n",
       "   'categories': ['Machine Learning']}},\n",
       " {'s': {'name': 'AWS Deep Learning Containers',\n",
       "   'description': 'Docker images for deep learning',\n",
       "   'categories': ['Machine Learning']}},\n",
       " {'s': {'name': 'AWS DeepComposer',\n",
       "   'description': 'ML enabled musical keyboard',\n",
       "   'categories': ['Machine Learning']}},\n",
       " {'s': {'name': 'AWS DeepRacer',\n",
       "   'description': 'Autonomous 1/18th scale race car, driven by ML',\n",
       "   'categories': ['Machine Learning']}},\n",
       " {'s': {'name': 'AWS HealthImaging',\n",
       "   'description': 'Manage medical imaging data',\n",
       "   'categories': ['Machine Learning']}},\n",
       " {'s': {'name': 'AWS HealthLake',\n",
       "   'description': 'Securely store, transform, query, and analyze health data in minutes',\n",
       "   'categories': ['Machine Learning']}},\n",
       " {'s': {'name': 'AWS HealthOmics',\n",
       "   'description': 'Transform omics data into insights',\n",
       "   'categories': ['Machine Learning']}},\n",
       " {'s': {'name': 'AWS Panorama',\n",
       "   'description': 'Improve your operations with computer vision at the edge',\n",
       "   'categories': ['Machine Learning']}}]"
      ]
     },
     "execution_count": 10,
     "metadata": {},
     "output_type": "execute_result"
    }
   ],
   "source": [
    "cypher = \"\"\"\n",
    "    MATCH (s:Service {categories: [\"Machine Learning\"]})\n",
    "    RETURN s\n",
    "\"\"\"\n",
    "a = kg.query(cypher)\n",
    "a"
   ]
  },
  {
   "cell_type": "code",
   "execution_count": 11,
   "metadata": {},
   "outputs": [
    {
     "name": "stdout",
     "output_type": "stream",
     "text": [
      "True\n"
     ]
    }
   ],
   "source": [
    "cypher = \"\"\"\n",
    "    MATCH (s:Service)\n",
    "    WHERE s.categories = [\"Machine Learning\"]\n",
    "    RETURN s\n",
    "\"\"\"\n",
    "b = kg.query(cypher)\n",
    "print(a == b)"
   ]
  },
  {
   "cell_type": "code",
   "execution_count": 12,
   "metadata": {},
   "outputs": [
    {
     "data": {
      "text/plain": [
       "[{'service': 'Amazon A2I',\n",
       "  'description': 'Easily implement human review of ML predictions',\n",
       "  'categories': ['Machine Learning']},\n",
       " {'service': 'Amazon Bedrock',\n",
       "  'description': 'Access best-in-class foundation models to build generative AI applications',\n",
       "  'categories': ['Machine Learning']},\n",
       " {'service': 'Amazon CodeGuru',\n",
       "  'description': 'Find your most expensive lines of code',\n",
       "  'categories': ['Machine Learning']},\n",
       " {'service': 'Amazon CodeWhisperer',\n",
       "  'description': 'Build applications faster with the ML-powered coding companion',\n",
       "  'categories': ['Developer Tools', 'Machine Learning']},\n",
       " {'service': 'Amazon Comprehend',\n",
       "  'description': 'Discover insights and relationships in text',\n",
       "  'categories': ['Machine Learning']}]"
      ]
     },
     "execution_count": 12,
     "metadata": {},
     "output_type": "execute_result"
    }
   ],
   "source": [
    "cypher = \"\"\"\n",
    "MATCH (s:Service)\n",
    "WHERE \"Machine Learning\" IN s.categories\n",
    "RETURN s.name AS service, s.description AS description, s.categories AS categories\n",
    "LIMIT 5\n",
    "\"\"\"\n",
    "kg.query(cypher)"
   ]
  },
  {
   "cell_type": "markdown",
   "metadata": {},
   "source": [
    "#### Adding relationships to the graph"
   ]
  },
  {
   "cell_type": "code",
   "execution_count": 13,
   "metadata": {},
   "outputs": [],
   "source": [
    "for relationship in good_relationships:\n",
    "    service_a = relationship[\"serviceA\"]\n",
    "    service_b = relationship[\"serviceB\"]\n",
    "\n",
    "    # Create the Cypher query to create the relationship\n",
    "    cypher = f\"\"\"\n",
    "    MATCH \n",
    "        (a:Service {{name: '{service_a}'}}),\n",
    "        (b:Service {{name: '{service_b}'}})\n",
    "    MERGE (a)-[:CAN_BE_CONNECTED]-(b)\n",
    "    \"\"\"\n",
    "\n",
    "    kg.query(cypher)"
   ]
  },
  {
   "cell_type": "code",
   "execution_count": 16,
   "metadata": {},
   "outputs": [
    {
     "data": {
      "text/plain": [
       "[{'source': 'Amazon Athena', 'target': 'Amazon EMR'},\n",
       " {'source': 'Amazon Athena', 'target': 'Amazon Redshift'},\n",
       " {'source': 'Amazon Athena', 'target': 'Amazon S3'},\n",
       " {'source': 'Amazon Athena', 'target': 'AWS CloudTrail'},\n",
       " {'source': 'Amazon Athena', 'target': 'AWS Database Migration Service'},\n",
       " {'source': 'Amazon Athena', 'target': 'AWS Glue'},\n",
       " {'source': 'Amazon Athena', 'target': 'AWS KMS'},\n",
       " {'source': 'Amazon Athena', 'target': 'AWS Lambda'},\n",
       " {'source': 'Amazon Athena', 'target': 'AWS VPN'},\n",
       " {'source': 'Amazon Athena', 'target': 'Elastic Load Balancing'}]"
      ]
     },
     "execution_count": 16,
     "metadata": {},
     "output_type": "execute_result"
    }
   ],
   "source": [
    "cypher = \"\"\"\n",
    "    MATCH (a:Service {name: 'Amazon Athena'})-[r:CAN_BE_CONNECTED]->(b:Service)\n",
    "    WITH a, b, COLLECT(r) AS relationships\n",
    "    RETURN a.name AS source, b.name AS target\n",
    "\"\"\"\n",
    "kg.query(cypher)"
   ]
  }
 ],
 "metadata": {
  "kernelspec": {
   "display_name": ".venv",
   "language": "python",
   "name": "python3"
  },
  "language_info": {
   "codemirror_mode": {
    "name": "ipython",
    "version": 3
   },
   "file_extension": ".py",
   "mimetype": "text/x-python",
   "name": "python",
   "nbconvert_exporter": "python",
   "pygments_lexer": "ipython3",
   "version": "3.11.6"
  }
 },
 "nbformat": 4,
 "nbformat_minor": 2
}
