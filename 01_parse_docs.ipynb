{
 "cells": [
  {
   "cell_type": "markdown",
   "metadata": {},
   "source": [
    "#### Libraries"
   ]
  },
  {
   "cell_type": "code",
   "execution_count": 24,
   "metadata": {},
   "outputs": [],
   "source": [
    "import os\n",
    "import pickle\n",
    "from pathlib import Path\n",
    "\n",
    "from dotenv import load_dotenv\n",
    "from llama_parse import LlamaParse\n",
    "from nest_asyncio import apply as nest_asyncio_apply\n",
    "\n",
    "_ = nest_asyncio_apply(), load_dotenv()\n",
    "DATA = Path(\"data/whitepapers/\")"
   ]
  },
  {
   "cell_type": "markdown",
   "metadata": {},
   "source": [
    "#### LlamaParse Setup"
   ]
  },
  {
   "cell_type": "code",
   "execution_count": 6,
   "metadata": {},
   "outputs": [],
   "source": [
    "parser = LlamaParse(\n",
    "    api_key=os.getenv(\"LLAMA_PARSE_API_KEY\"),\n",
    "    result_type=\"markdown\",\n",
    "    verbose=False,\n",
    "    language=\"en\",\n",
    "    num_workers=5\n",
    ")"
   ]
  },
  {
   "cell_type": "markdown",
   "metadata": {},
   "source": [
    "#### Parsing whitepapers pdfs for all years"
   ]
  },
  {
   "cell_type": "code",
   "execution_count": 19,
   "metadata": {},
   "outputs": [],
   "source": [
    "full_documents = []\n",
    "for i in range(5)[::-1]:\n",
    "    print(f\"Parsing year: 202{i}\")\n",
    "    file_path = [str(DATA / f\"202{i}\" / file) for file in os.listdir(DATA / f\"202{i}\")]\n",
    "    documents = await parser.aload_data(file_path=file_path)\n",
    "    full_documents.append(documents)\n",
    "    print(f\"Done parsing year: 202{i}\")"
   ]
  },
  {
   "cell_type": "markdown",
   "metadata": {},
   "source": [
    "#### Saving parsed pdfs"
   ]
  },
  {
   "cell_type": "code",
   "execution_count": 16,
   "metadata": {},
   "outputs": [],
   "source": [
    "unnested_documents = [doc for year in full_documents for doc in year]\n",
    "with open(\"data/parsed_docs.pkl\", \"wb\") as f:\n",
    "    pickle.dump(unnested_documents, f)"
   ]
  },
  {
   "cell_type": "markdown",
   "metadata": {},
   "source": [
    "#### Inspect results"
   ]
  },
  {
   "cell_type": "code",
   "execution_count": 29,
   "metadata": {},
   "outputs": [
    {
     "name": "stdout",
     "output_type": "stream",
     "text": [
      "Number of total documents parsed: 284\n",
      "Number of documents parsed for 2020 : 48\n",
      "Number of documents parsed for 2021 : 125\n",
      "Number of documents parsed for 2022 : 61\n",
      "Number of documents parsed for 2023 : 43\n",
      "Number of documents parsed for 2024 : 7\n"
     ]
    }
   ],
   "source": [
    "print(f\"Number of total documents parsed: {len(unnested_documents)}\")\n",
    "for idx, year in enumerate(full_documents[::-1]):\n",
    "    print(f\"Number of documents parsed for 202{idx} : {len(year)}\")"
   ]
  },
  {
   "cell_type": "code",
   "execution_count": 32,
   "metadata": {},
   "outputs": [
    {
     "name": "stdout",
     "output_type": "stream",
     "text": [
      "AWS Well-Architected Framework\n",
      "Migration Lens\n",
      "\n",
      "Copyright©   2024 Amazon Web Services, Inc. and/or its affiliates. All rights reserved.\n",
      "---\n",
      "# Migration Lens\n",
      "\n",
      "# AWS Well-Architected Framework\n",
      "\n",
      "Migration Lens: AWS Well-Architected Framework\n",
      "\n",
      "Copyright © 2024 Amazon Web Services, Inc. and/or its affiliates. All rights reserved.\n",
      "\n",
      "Amazon's trademarks and trade dress may not be used in connection with any product or service that is not Amazon's, in any manner that is likely to cause confusion among customers, or in any manner that disparages or discredits Amazon. All other trademarks not owned by Amazon are the property of their respective owners, who may or may not be affiliated with, connected to, or sponsored by Amazon.\n",
      "---\n",
      "## Migration Lens - AWS Well-Architected Framework\n",
      "\n",
      "|Abstract and introduction|i|\n",
      "|---|---|\n",
      "|Introduction|1|\n",
      "|Definitions|3|\n",
      "|Well-Architected terminology|3|\n",
      "|Migration terminology|3|\n",
      "|Design principles|6|\n",
      "|Migration lifecycle|8|\n",
      "|Assess|8|\n",
      "|Mobilize|8|\n",
      "|Migrate and modernize|9|\n",
      "|Well-Architected migration|9|\n",
      "|The pillars of the Well-Architected Framework|11|\n",
      "|Operational excellence|12|\n",
      "|Assess|12|\n",
      "|Mobilize|15|\n",
      "|Migrate|25|\n",
      "|Security|29|\n",
      "|Assess|29|\n",
      "|Mobilize|35|\n",
      "|Migrate|47|\n",
      "|Reliability|52|\n",
      "|Assess|53|\n",
      "|Mobilize|58|\n",
      "|Migrate|64|\n",
      "|Performance efficiency|65|\n",
      "|Assess|65|\n",
      "|Mobilize|77|\n",
      "|Migrate|79|\n",
      "|Cost optimization|84|\n",
      "|Assess|85|\n",
      "|Mobilize|87|\n",
      "|Migrate|91|\n",
      "|Sustainability|98|\n",
      "|Assess|99|\n",
      "---\n",
      "## Migration Lens\n",
      "\n",
      "AWS Well-Architected Framework\n",
      "\n",
      "|Mobilize|101|\n",
      "|---|---|\n",
      "|Migrate|110|\n",
      "\n",
      "Best practice arranged by migration phase\n",
      "\n",
      "Assess Phase\n",
      "117\n",
      "\n",
      "Operational excellence pillar\n",
      "\n",
      "Security pillar\n",
      "\n",
      "Reliability pillar\n",
      "\n",
      "Performance efficiency pillar\n",
      "\n",
      "Cost optimization pillar\n",
      "\n",
      "Sustainability pillar\n",
      "\n",
      "Mobilize Phase\n",
      "118\n",
      "\n",
      "Operational excellence pillar\n",
      "\n",
      "Security pillar\n",
      "\n",
      "Reliability pillar\n",
      "\n",
      "Performance efficiency pillar\n",
      "\n",
      "Cost optimization pillar\n",
      "\n",
      "Sustainability pillar\n",
      "\n",
      "Migrate Phase\n",
      "121\n",
      "\n",
      "Operational excellence pillar\n",
      "\n",
      "Security pillar\n",
      "\n",
      "Reliability pillar\n",
      "\n",
      "Performance efficiency pillar\n",
      "\n",
      "Cost optimization pillar\n",
      "\n",
      "Sustainability pillar\n",
      "\n",
      "Best practices arranged by pillars\n",
      "\n",
      "Operational excellence pillar best practices\n",
      "\n",
      "|Assess Phase|123|\n",
      "|---|---|\n",
      "|Mobilize Phase|123|\n",
      "|Migrate Phase|123|\n",
      "\n",
      "Security pillar best practices\n",
      "\n",
      "|Assess Phase|123|\n",
      "|---|---|\n",
      "|Mobilize Phase|124|\n",
      "|Migrate Phase|124|\n",
      "\n",
      "Reliability pillar best practices\n",
      "\n",
      "|Assess Phase|124|\n",
      "|---|---|\n",
      "|Mobilize Phase|125|\n",
      "---\n",
      "|Migration Lens|AWS Well-Architected Framework|\n",
      "|---|---|\n",
      "|Migrate Phase|125|\n",
      "|Performance efficiency pillar best practices|126|\n",
      "|Assess Phase|126|\n",
      "|Mobilize Phase|126|\n",
      "|Migrate Phase|126|\n",
      "|Cost optimization pillar best practices|127|\n",
      "|Assess Phase|127|\n",
      "|Mobilize Phase|127|\n",
      "|Migrate Phase|127|\n",
      "|Sustainability pillar best practices|127|\n",
      "|Assess Phase|127|\n",
      "|Mobilize Phase|128|\n",
      "|Migrate Phase|128|\n",
      "|Conclusion|129|\n",
      "|Contributors|130|\n",
      "|Document revisions|131|\n",
      "|Notices|132|\n",
      "|AWS Glossary|133|\n",
      "---\n",
      "## Migration Lens - AWS Well-Architected Framework\n",
      "\n",
      "Publication date: January 24, 2024 (Document revisions)\n",
      "\n",
      "This whitepaper describes the Migration Lens for the AWS Well-Architected Framework. It provides AWS customers with a set of Well-Architected best practices and guidance on the migration of their on-premises or hybrid workloads into a fully cloud-based implementation.\n",
      "\n",
      "### Introduction\n",
      "\n",
      "The three phases of an AWS Migration consist of assess, mobilize, and migrate and modernize. The Well-Architected Framework superimposes the six pillars (operational excellence, security, reliability, performance efficiency, cost optimization, and sustainability) to help you reduce your cloud migration and implementation risks.\n",
      "\n",
      "In doing so, the Migration Lens combines the three phases of migration (assess, mobilize, and migrate and modernize) and the six pillars of the AWS Well-Architected Framework, and serves as a foundational guidance for migration best practices that customers can reference to evaluate the decisions they make on their migration and measure them against AWS best practices.\n",
      "\n",
      "The AWS Well-Architected Framework helps you understand the pros and cons of decisions you make while building systems on AWS. Using the Framework, you can learn architectural best practices for designing and operating reliable, secure, efficient, cost-effective, and sustainable systems in the cloud. It provides a way for you to measure your architectures against best practices and identify areas for improvement. We believe that having well-architected systems greatly increases the likelihood of business success.\n",
      "\n",
      "One of the first decisions to make when you start thinking about migrating workloads to the cloud is to decide your migration strategy. A migration strategy is the approach used to move applications to the cloud, also known as the 7 Rs: retire, retain, rehost, relocate, repurchase, replatform, and refactor. For more details on each R, see Definitions.\n",
      "\n",
      "The Migration Lens focuses specifically on rehost, relocate, replatform, and retire migration strategies. The refactor strategy involves modernizing the application during the migration. These topics are addressed in other AWS publications. For brevity, we have only covered details from the Well-Architected Framework that are specific to migration. Consider best practices and questions that have not been included in this document when designing your architecture. We recommend\n",
      "---\n",
      "Migration Lens - AWS Well-Architected Framework\n",
      "\n",
      "It is recommended that you complete a full Well-Architected Framework Review (WAFR) prior to performing this AWS Migration Lens review.\n",
      "\n",
      "This lens whitepaper is intended for those in technology roles, such as chief technology officers (CTOs), architects, developers, and operations team members. After reading this paper, you should understand AWS best practices and strategies to use when migrating workloads to the AWS Cloud.\n",
      "\n",
      "Introduction\n",
      "Page: 2\n",
      "---\n",
      "## Migration Lens\n",
      "\n",
      "AWS Well-Architected Framework\n",
      "\n",
      "### Definitions\n",
      "\n",
      "Well-Architected terminology\n",
      "\n",
      "|Workload|A workload is used to identify a set of components that together deliver business value. A workload is usually the level of detail that business and technology leaders communicate about.|\n",
      "|---|---|\n",
      "|Technology portfolio|Within an organization, the technology portfolio is the collection of workloads that are required for the business to operate.|\n",
      "|Architecture|An architecture is a set of IT services and components that work together in a workload.|\n",
      "|Component|A component is the code, configuration, and AWS resources that together deliver against a requirement. A component is often the unit of technical ownership, and is decoupled from other components.|\n",
      "|AWS Well-Architected Framework|A framework that provides a consistent set of best practices for customers and partners to evaluate architectures, and provides a set of questions you can use to evaluate how well an architecture is aligned to AWS best practices based on six pillars.|\n",
      "|Trade-offs|Trade-offs are decisions you make while architecting a workload, based on business context, that drives your engineering priorities.|\n",
      "\n",
      "Migration terminology\n",
      "\n",
      "|AWS Migration|AWS Migration is the process of moving applications and data from one location, usually an organization's private on-site (on-premises), or other cloud providers, to the AWS Cloud.|\n",
      "|---|---|\n",
      "|Migration process|Migration process is the three-phase approach methodology designed to help your organization migrate tens, hundreds, or thousands of applications. While each phase is a common component of a successful migration, they are not discrete phases, but an iterative process.|\n",
      "|Migration drivers|Migration drivers are the reasons an organization uses to make a business decision to move to the cloud. Reasons could include reducing capital expenditure, decreasing ongoing cost, improving scalability and elasticity, improving time-to-market, and attaining improvements in security and compliance|\n",
      "---\n",
      "## Migration Lens\n",
      "\n",
      "AWS Well-Architected Framework\n",
      "\n",
      "Migration key performance indicators (KPIs): Metrics you identify at the start of your migration project, after you establish migration goals, to measure the success of these goals.\n",
      "\n",
      "Migration phase: A migration phase refers to one of the following three phases: assess, mobilize, or migrate and modernize.\n",
      "\n",
      "Assess: Assess is the first migration phase. At the start of your journey, you assess your organization's current readiness for operating in the cloud. Most importantly, you want to identify the desired business outcomes and develop the business case for migration.\n",
      "\n",
      "Mobilize: Mobilize is the process of creating a migration plan and refining your business case. You address gaps in your organization's readiness that were uncovered in the assess phase, with a focus on building your baseline environment (the landing zone), driving operational readiness, and developing cloud skills. Consider this phase as a pilot migration project.\n",
      "\n",
      "Migrate and modernize: During the migrate and modernize phase, each application is designed, migrated, and validated. Leverage the services below through our migration specialists, with one of our migration competency partners, or on your own to start the process of moving applications and data to AWS.\n",
      "\n",
      "Migration services: Migration services are a comprehensive portfolio of AWS migration services, migration competency partners, and mature third-party migration tooling ecosystem. They provide automation and intelligent recommendations based on AWS machine learning to simplify and accelerate each step of the three-phase migration process.\n",
      "\n",
      "Migration strategy: The approach used to migrate a workload into the AWS Cloud. There are seven migration strategies for moving applications to the cloud, known as the seven Rs.\n",
      "\n",
      "- Retire: Retiring the application means that you can shut down the servers within that application stack.\n",
      "- Retain: This is the migration strategy for applications that you want to keep in your source environment or applications that you are not ready to migrate.\n"
     ]
    }
   ],
   "source": [
    "print(unnested_documents[0].text[:10000])"
   ]
  },
  {
   "cell_type": "markdown",
   "metadata": {},
   "source": [
    "#### Cost"
   ]
  },
  {
   "cell_type": "code",
   "execution_count": 41,
   "metadata": {},
   "outputs": [
    {
     "name": "stdout",
     "output_type": "stream",
     "text": [
      "Cost of parsing 15,257 pages with LlamaParse: $24.77\n"
     ]
    }
   ],
   "source": [
    "total_parsed_pages = 15_257\n",
    "free_pages = 7_000\n",
    "cost = 0.003 * (total_parsed_pages - free_pages)\n",
    "print(f\"Cost of parsing {total_parsed_pages:,} pages with LlamaParse: ${cost:.2f}\")"
   ]
  }
 ],
 "metadata": {
  "kernelspec": {
   "display_name": ".venv",
   "language": "python",
   "name": "python3"
  },
  "language_info": {
   "codemirror_mode": {
    "name": "ipython",
    "version": 3
   },
   "file_extension": ".py",
   "mimetype": "text/x-python",
   "name": "python",
   "nbconvert_exporter": "python",
   "pygments_lexer": "ipython3",
   "version": "3.11.6"
  }
 },
 "nbformat": 4,
 "nbformat_minor": 2
}
